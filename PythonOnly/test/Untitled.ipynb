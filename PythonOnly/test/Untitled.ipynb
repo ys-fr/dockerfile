{
 "cells": [
  {
   "cell_type": "code",
   "execution_count": 1,
   "id": "9430d26b-08cf-483a-a3ab-853db88b2a89",
   "metadata": {},
   "outputs": [],
   "source": [
    "import test\n"
   ]
  },
  {
   "cell_type": "code",
   "execution_count": 2,
   "id": "be22498e-09e2-4ac6-8781-07faed9c4a5e",
   "metadata": {},
   "outputs": [
    {
     "data": {
      "text/plain": [
       "['__builtins__',\n",
       " '__cached__',\n",
       " '__doc__',\n",
       " '__file__',\n",
       " '__loader__',\n",
       " '__name__',\n",
       " '__package__',\n",
       " '__path__',\n",
       " '__spec__']"
      ]
     },
     "execution_count": 2,
     "metadata": {},
     "output_type": "execute_result"
    }
   ],
   "source": [
    "dir(test)"
   ]
  },
  {
   "cell_type": "code",
   "execution_count": 3,
   "id": "1957e63b-cc99-487f-86ef-6a48f82e4dcc",
   "metadata": {},
   "outputs": [
    {
     "ename": "AttributeError",
     "evalue": "module 'test' has no attribute 'add'",
     "output_type": "error",
     "traceback": [
      "\u001b[0;31m---------------------------------------------------------------------------\u001b[0m",
      "\u001b[0;31mAttributeError\u001b[0m                            Traceback (most recent call last)",
      "Cell \u001b[0;32mIn[3], line 1\u001b[0m\n\u001b[0;32m----> 1\u001b[0m \u001b[43mtest\u001b[49m\u001b[38;5;241;43m.\u001b[39;49m\u001b[43madd\u001b[49m()\n",
      "\u001b[0;31mAttributeError\u001b[0m: module 'test' has no attribute 'add'"
     ]
    }
   ],
   "source": [
    "test.add()"
   ]
  },
  {
   "cell_type": "code",
   "execution_count": null,
   "id": "7f720852-9760-4701-b64c-9a9d2070b15d",
   "metadata": {},
   "outputs": [],
   "source": []
  }
 ],
 "metadata": {
  "kernelspec": {
   "display_name": "Python 3 (ipykernel)",
   "language": "python",
   "name": "python3"
  },
  "language_info": {
   "codemirror_mode": {
    "name": "ipython",
    "version": 3
   },
   "file_extension": ".py",
   "mimetype": "text/x-python",
   "name": "python",
   "nbconvert_exporter": "python",
   "pygments_lexer": "ipython3",
   "version": "3.12.2"
  }
 },
 "nbformat": 4,
 "nbformat_minor": 5
}
